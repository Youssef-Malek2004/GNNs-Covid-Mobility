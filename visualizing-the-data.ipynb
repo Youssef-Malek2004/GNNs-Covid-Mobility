{
 "cells": [
  {
   "cell_type": "code",
   "id": "initial_id",
   "metadata": {
    "collapsed": true,
    "ExecuteTime": {
     "end_time": "2025-03-24T18:42:27.433429Z",
     "start_time": "2025-03-24T18:42:27.410075Z"
    }
   },
   "source": [
    "import geopandas as gpd\n",
    "\n",
    "# Load the shapefile\n",
    "cities = gpd.read_file(\"data/2014/cidades_gemeas_2014.shp\")\n",
    "\n",
    "# Show first few rows\n",
    "print(cities.head())\n",
    "len(cities)\n"
   ],
   "outputs": [
    {
     "name": "stdout",
     "output_type": "stream",
     "text": [
      "   OBJECTID  COD_ORIG ORIGEM___L  COD_DEST             DESTINO___  CARGA__KG_  \\\n",
      "0         1   1100122  JI-PARANÁ   1100304                VILHENA         961   \n",
      "1         2   1100122  JI-PARANÁ   1301704                HUMAITÁ         361   \n",
      "2         3   1100122  JI-PARANÁ   1302405                 LÁBREA         351   \n",
      "3         4   1100122  JI-PARANÁ   3106200         BELO HORIZONTE           0   \n",
      "4         5   1100122  JI-PARANÁ   3549805  SÃO JOSÉ DO RIO PRETO           0   \n",
      "\n",
      "                                            geometry  \n",
      "0  LINESTRING (-61.94453 -10.8824, -60.14652 -12....  \n",
      "1  LINESTRING (-61.94453 -10.8824, -63.02153 -7.5...  \n",
      "2  LINESTRING (-61.94453 -10.8824, -64.79854 -7.2...  \n",
      "3  LINESTRING (-61.94453 -10.8824, -43.95642 -19....  \n",
      "4  LINESTRING (-61.94453 -10.8824, -49.37947 -20....  \n"
     ]
    },
    {
     "data": {
      "text/plain": [
       "879"
      ]
     },
     "execution_count": 29,
     "metadata": {},
     "output_type": "execute_result"
    }
   ],
   "execution_count": 29
  },
  {
   "metadata": {
    "ExecuteTime": {
     "end_time": "2025-03-24T18:47:52.911933Z",
     "start_time": "2025-03-24T18:47:52.899638Z"
    }
   },
   "cell_type": "code",
   "source": [
    "import geopandas as gpd\n",
    "\n",
    "# Load the shapefile\n",
    "airway = gpd.read_file(\"data/2014/fluxos_aereos_2010.shp\")\n",
    "\n",
    "# Show first few rows\n",
    "print(airway.columns)\n",
    "print(\"Number of unique origin cities:\", len(airway['ORIGEM___L'].unique()))\n",
    "print(\"Number of unique destination cities:\", len(airway['DESTINO___'].unique()))\n",
    "print(airway.tail())\n",
    "len(airway)\n"
   ],
   "id": "3575526364a1ac87",
   "outputs": [
    {
     "name": "stdout",
     "output_type": "stream",
     "text": [
      "Index(['OBJECTID', 'COD_ORIG', 'ORIGEM___L', 'COD_DEST', 'DESTINO___',\n",
      "       'CARGA__KG_', 'geometry'],\n",
      "      dtype='object')\n",
      "Number of unique origin cities: 115\n",
      "Number of unique destination cities: 148\n",
      "     OBJECTID  COD_ORIG ORIGEM___L  COD_DEST             DESTINO___  \\\n",
      "874       875   5300108   BRASÍLIA   5103353               CONFRESA   \n",
      "875       876   5300108   BRASÍLIA   5103403                 CUIABÁ   \n",
      "876       877   5300108   BRASÍLIA   5107859  SÃO FÉLIX DO ARAGUAIA   \n",
      "877       878   5300108   BRASÍLIA   5208707                GOIÂNIA   \n",
      "878       879   5300108   BRASÍLIA   5213087                 MINAÇU   \n",
      "\n",
      "     CARGA__KG_                                           geometry  \n",
      "874          17  LINESTRING (-47.93044 -15.78045, -51.56946 -10...  \n",
      "875     1486698  LINESTRING (-47.93044 -15.78045, -56.0975 -15....  \n",
      "876         221  LINESTRING (-47.93044 -15.78045, -50.66946 -11...  \n",
      "877     2407844  LINESTRING (-47.93044 -15.78045, -49.25445 -16...  \n",
      "878         180  LINESTRING (-47.93044 -15.78045, -48.22044 -13...  \n"
     ]
    },
    {
     "data": {
      "text/plain": [
       "879"
      ]
     },
     "execution_count": 35,
     "metadata": {},
     "output_type": "execute_result"
    }
   ],
   "execution_count": 35
  },
  {
   "metadata": {
    "ExecuteTime": {
     "end_time": "2025-03-24T18:48:35.139841Z",
     "start_time": "2025-03-24T18:48:35.057204Z"
    }
   },
   "cell_type": "code",
   "source": [
    "import geopandas as gpd\n",
    "\n",
    "# Load the shapefile\n",
    "roads = gpd.read_file(\"data/2014/rodovia_2014.shp\")\n",
    "\n",
    "# Show first few rows\n",
    "print(roads.columns)\n",
    "# print(\"Number of unique origin cities:\", len(roads['ORIGEM___L'].unique()))\n",
    "# print(\"Number of unique destination cities:\", len(roads['DESTINO___'].unique()))\n",
    "print(roads.tail())\n",
    "len(roads)\n"
   ],
   "id": "578a32a58337ff0d",
   "outputs": [
    {
     "name": "stdout",
     "output_type": "stream",
     "text": [
      "Index(['OBJECTID', 'DescSeg', 'TipoPNV', 'CODIGO', 'geometry'], dtype='object')\n",
      "       OBJECTID                             DescSeg      TipoPNV      CODIGO  \\\n",
      "18389     18396                   ACESSO SANTOS (1)         None     AC18396   \n",
      "18390     18397                   ACESSO SANTOS (2)         None     AC18397   \n",
      "18391     18398  FERRY BOAT (B) - CANANEIA (PU) (A)  Pavimentada  226ESP0060   \n",
      "18392     18399                                None    Duplicada  153BRS1800   \n",
      "18393     18400                                None         None    001AM001   \n",
      "\n",
      "                                                geometry  \n",
      "18389  LINESTRING (-46.33293 -23.95991, -46.33883 -23...  \n",
      "18390  LINESTRING (-46.31724 -23.94173, -46.3209 -23....  \n",
      "18391  LINESTRING (-47.94207 -24.99812, -47.93831 -24...  \n",
      "18392  LINESTRING (-52.91871 -30.01631, -52.91856 -30...  \n",
      "18393  LINESTRING (-64.6316 -2.41954, -64.27957 -2.47...  \n"
     ]
    },
    {
     "data": {
      "text/plain": [
       "18394"
      ]
     },
     "execution_count": 39,
     "metadata": {},
     "output_type": "execute_result"
    }
   ],
   "execution_count": 39
  },
  {
   "metadata": {},
   "cell_type": "code",
   "outputs": [],
   "execution_count": null,
   "source": "",
   "id": "238a5ea39c34678"
  }
 ],
 "metadata": {
  "kernelspec": {
   "display_name": "Python 3",
   "language": "python",
   "name": "python3"
  },
  "language_info": {
   "codemirror_mode": {
    "name": "ipython",
    "version": 2
   },
   "file_extension": ".py",
   "mimetype": "text/x-python",
   "name": "python",
   "nbconvert_exporter": "python",
   "pygments_lexer": "ipython2",
   "version": "2.7.6"
  }
 },
 "nbformat": 4,
 "nbformat_minor": 5
}
