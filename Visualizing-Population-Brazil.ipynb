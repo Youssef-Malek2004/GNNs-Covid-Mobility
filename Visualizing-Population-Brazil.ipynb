{
 "cells": [
  {
   "cell_type": "code",
   "id": "initial_id",
   "metadata": {
    "collapsed": true,
    "ExecuteTime": {
     "end_time": "2025-04-05T12:11:13.114880Z",
     "start_time": "2025-04-05T12:11:12.893395Z"
    }
   },
   "source": [
    "from codes.preprocess_covid_brazil import clean_ibge_population_data\n",
    "\n",
    "cleaned_df = clean_ibge_population_data()"
   ],
   "outputs": [
    {
     "name": "stdout",
     "output_type": "stream",
     "text": [
      "[✓] Cleaned population data saved to: data/cleaned_population_2022.csv\n"
     ]
    }
   ],
   "execution_count": 5
  },
  {
   "metadata": {
    "ExecuteTime": {
     "end_time": "2025-04-05T12:11:17.902332Z",
     "start_time": "2025-04-05T12:11:17.896995Z"
    }
   },
   "cell_type": "code",
   "source": "cleaned_df.count()",
   "id": "28d568a40aae8c19",
   "outputs": [
    {
     "data": {
      "text/plain": [
       "ibgeID        5570\n",
       "city_name     5570\n",
       "population    5570\n",
       "dtype: int64"
      ]
     },
     "execution_count": 6,
     "metadata": {},
     "output_type": "execute_result"
    }
   ],
   "execution_count": 6
  },
  {
   "metadata": {
    "ExecuteTime": {
     "end_time": "2025-04-05T13:15:01.930608Z",
     "start_time": "2025-04-05T13:15:01.919814Z"
    }
   },
   "cell_type": "code",
   "source": [
    "# View top 10 most populous cities\n",
    "cleaned_df.sort_values(by=\"population\", ascending=False).head(10)\n"
   ],
   "id": "a5ea9a9a428e3163",
   "outputs": [
    {
     "data": {
      "text/plain": [
       "       ibgeID       city_name  population\n",
       "3831  3550308       São Paulo    11451999\n",
       "3244  3304557  Rio de Janeiro     6211223\n",
       "5571  5300108        Brasília     2817381\n",
       "951   2304400       Fortaleza     2428708\n",
       "2164  2927408        Salvador     2417678\n",
       "2311  3106200  Belo Horizonte     2315560\n",
       "113   1302603          Manaus     2063689\n",
       "4007  4106902        Curitiba     1773718\n",
       "1598  2611606          Recife     1488920\n",
       "5419  5208707         Goiânia     1437366"
      ],
      "text/html": [
       "<div>\n",
       "<style scoped>\n",
       "    .dataframe tbody tr th:only-of-type {\n",
       "        vertical-align: middle;\n",
       "    }\n",
       "\n",
       "    .dataframe tbody tr th {\n",
       "        vertical-align: top;\n",
       "    }\n",
       "\n",
       "    .dataframe thead th {\n",
       "        text-align: right;\n",
       "    }\n",
       "</style>\n",
       "<table border=\"1\" class=\"dataframe\">\n",
       "  <thead>\n",
       "    <tr style=\"text-align: right;\">\n",
       "      <th></th>\n",
       "      <th>ibgeID</th>\n",
       "      <th>city_name</th>\n",
       "      <th>population</th>\n",
       "    </tr>\n",
       "  </thead>\n",
       "  <tbody>\n",
       "    <tr>\n",
       "      <th>3831</th>\n",
       "      <td>3550308</td>\n",
       "      <td>São Paulo</td>\n",
       "      <td>11451999</td>\n",
       "    </tr>\n",
       "    <tr>\n",
       "      <th>3244</th>\n",
       "      <td>3304557</td>\n",
       "      <td>Rio de Janeiro</td>\n",
       "      <td>6211223</td>\n",
       "    </tr>\n",
       "    <tr>\n",
       "      <th>5571</th>\n",
       "      <td>5300108</td>\n",
       "      <td>Brasília</td>\n",
       "      <td>2817381</td>\n",
       "    </tr>\n",
       "    <tr>\n",
       "      <th>951</th>\n",
       "      <td>2304400</td>\n",
       "      <td>Fortaleza</td>\n",
       "      <td>2428708</td>\n",
       "    </tr>\n",
       "    <tr>\n",
       "      <th>2164</th>\n",
       "      <td>2927408</td>\n",
       "      <td>Salvador</td>\n",
       "      <td>2417678</td>\n",
       "    </tr>\n",
       "    <tr>\n",
       "      <th>2311</th>\n",
       "      <td>3106200</td>\n",
       "      <td>Belo Horizonte</td>\n",
       "      <td>2315560</td>\n",
       "    </tr>\n",
       "    <tr>\n",
       "      <th>113</th>\n",
       "      <td>1302603</td>\n",
       "      <td>Manaus</td>\n",
       "      <td>2063689</td>\n",
       "    </tr>\n",
       "    <tr>\n",
       "      <th>4007</th>\n",
       "      <td>4106902</td>\n",
       "      <td>Curitiba</td>\n",
       "      <td>1773718</td>\n",
       "    </tr>\n",
       "    <tr>\n",
       "      <th>1598</th>\n",
       "      <td>2611606</td>\n",
       "      <td>Recife</td>\n",
       "      <td>1488920</td>\n",
       "    </tr>\n",
       "    <tr>\n",
       "      <th>5419</th>\n",
       "      <td>5208707</td>\n",
       "      <td>Goiânia</td>\n",
       "      <td>1437366</td>\n",
       "    </tr>\n",
       "  </tbody>\n",
       "</table>\n",
       "</div>"
      ]
     },
     "execution_count": 7,
     "metadata": {},
     "output_type": "execute_result"
    }
   ],
   "execution_count": 7
  },
  {
   "metadata": {},
   "cell_type": "code",
   "outputs": [],
   "execution_count": null,
   "source": "",
   "id": "2c29d4df6d0224c7"
  }
 ],
 "metadata": {
  "kernelspec": {
   "display_name": "Python 3",
   "language": "python",
   "name": "python3"
  },
  "language_info": {
   "codemirror_mode": {
    "name": "ipython",
    "version": 2
   },
   "file_extension": ".py",
   "mimetype": "text/x-python",
   "name": "python",
   "nbconvert_exporter": "python",
   "pygments_lexer": "ipython2",
   "version": "2.7.6"
  }
 },
 "nbformat": 4,
 "nbformat_minor": 5
}
