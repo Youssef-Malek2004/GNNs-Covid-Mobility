{
 "cells": [
  {
   "cell_type": "code",
   "id": "initial_id",
   "metadata": {
    "collapsed": true,
    "ExecuteTime": {
     "end_time": "2025-04-14T21:46:06.582429Z",
     "start_time": "2025-04-14T21:46:01.610665Z"
    }
   },
   "source": [
    "import codes.extract_backbone\n",
    "import importlib\n",
    "importlib.reload(codes.extract_backbone)\n",
    "\n",
    "from codes.extract_backbone import save_meaningful_sample_with_sao_paulo\n",
    "\n",
    "df = save_meaningful_sample_with_sao_paulo(\n",
    "    mobility_edges_path=\"data/Road_and_waterway_connections_database_2016.xlsx\",\n",
    "    n=100\n",
    ")"
   ],
   "outputs": [
    {
     "name": "stdout",
     "output_type": "stream",
     "text": [
      "[✓] Meaningful sample with São Paulo emphasis saved to 'data/sample_mobility_edges.csv'.\n"
     ]
    }
   ],
   "execution_count": 3
  },
  {
   "metadata": {
    "ExecuteTime": {
     "end_time": "2025-04-14T21:46:07.941144Z",
     "start_time": "2025-04-14T21:46:07.934906Z"
    }
   },
   "cell_type": "code",
   "source": "df",
   "id": "b627858545021f5f",
   "outputs": [
    {
     "data": {
      "text/plain": [
       "     source            source_name   target            target_name  \\\n",
       "0   1301308                Codajás  1303908  São Paulo de Olivença   \n",
       "1   1302603                 Manaus  1303908  São Paulo de Olivença   \n",
       "2   1303908  São Paulo de Olivença  1304203                   Tefé   \n",
       "3   1501808                 Breves  1506005                Prainha   \n",
       "4   1500305                   Afuá  1600303                 Macapá   \n",
       "..      ...                    ...      ...                    ...   \n",
       "95  1100205            Porto Velho  1302603                 Manaus   \n",
       "96  1501402                  Belém  1507904                  Soure   \n",
       "97  1300060                Amaturá  1303700   Santo Antônio do Içá   \n",
       "98  1502103                 Cametá  1505205         Oeiras do Pará   \n",
       "99  1501303              Barcarena  1600808        Vitória do Jari   \n",
       "\n",
       "    weekly_flow  \n",
       "0          8.00  \n",
       "1         23.25  \n",
       "2         11.00  \n",
       "3         14.00  \n",
       "4         49.50  \n",
       "..          ...  \n",
       "95        19.00  \n",
       "96        14.00  \n",
       "97        20.75  \n",
       "98        36.00  \n",
       "99         3.00  \n",
       "\n",
       "[100 rows x 5 columns]"
      ],
      "text/html": [
       "<div>\n",
       "<style scoped>\n",
       "    .dataframe tbody tr th:only-of-type {\n",
       "        vertical-align: middle;\n",
       "    }\n",
       "\n",
       "    .dataframe tbody tr th {\n",
       "        vertical-align: top;\n",
       "    }\n",
       "\n",
       "    .dataframe thead th {\n",
       "        text-align: right;\n",
       "    }\n",
       "</style>\n",
       "<table border=\"1\" class=\"dataframe\">\n",
       "  <thead>\n",
       "    <tr style=\"text-align: right;\">\n",
       "      <th></th>\n",
       "      <th>source</th>\n",
       "      <th>source_name</th>\n",
       "      <th>target</th>\n",
       "      <th>target_name</th>\n",
       "      <th>weekly_flow</th>\n",
       "    </tr>\n",
       "  </thead>\n",
       "  <tbody>\n",
       "    <tr>\n",
       "      <th>0</th>\n",
       "      <td>1301308</td>\n",
       "      <td>Codajás</td>\n",
       "      <td>1303908</td>\n",
       "      <td>São Paulo de Olivença</td>\n",
       "      <td>8.00</td>\n",
       "    </tr>\n",
       "    <tr>\n",
       "      <th>1</th>\n",
       "      <td>1302603</td>\n",
       "      <td>Manaus</td>\n",
       "      <td>1303908</td>\n",
       "      <td>São Paulo de Olivença</td>\n",
       "      <td>23.25</td>\n",
       "    </tr>\n",
       "    <tr>\n",
       "      <th>2</th>\n",
       "      <td>1303908</td>\n",
       "      <td>São Paulo de Olivença</td>\n",
       "      <td>1304203</td>\n",
       "      <td>Tefé</td>\n",
       "      <td>11.00</td>\n",
       "    </tr>\n",
       "    <tr>\n",
       "      <th>3</th>\n",
       "      <td>1501808</td>\n",
       "      <td>Breves</td>\n",
       "      <td>1506005</td>\n",
       "      <td>Prainha</td>\n",
       "      <td>14.00</td>\n",
       "    </tr>\n",
       "    <tr>\n",
       "      <th>4</th>\n",
       "      <td>1500305</td>\n",
       "      <td>Afuá</td>\n",
       "      <td>1600303</td>\n",
       "      <td>Macapá</td>\n",
       "      <td>49.50</td>\n",
       "    </tr>\n",
       "    <tr>\n",
       "      <th>...</th>\n",
       "      <td>...</td>\n",
       "      <td>...</td>\n",
       "      <td>...</td>\n",
       "      <td>...</td>\n",
       "      <td>...</td>\n",
       "    </tr>\n",
       "    <tr>\n",
       "      <th>95</th>\n",
       "      <td>1100205</td>\n",
       "      <td>Porto Velho</td>\n",
       "      <td>1302603</td>\n",
       "      <td>Manaus</td>\n",
       "      <td>19.00</td>\n",
       "    </tr>\n",
       "    <tr>\n",
       "      <th>96</th>\n",
       "      <td>1501402</td>\n",
       "      <td>Belém</td>\n",
       "      <td>1507904</td>\n",
       "      <td>Soure</td>\n",
       "      <td>14.00</td>\n",
       "    </tr>\n",
       "    <tr>\n",
       "      <th>97</th>\n",
       "      <td>1300060</td>\n",
       "      <td>Amaturá</td>\n",
       "      <td>1303700</td>\n",
       "      <td>Santo Antônio do Içá</td>\n",
       "      <td>20.75</td>\n",
       "    </tr>\n",
       "    <tr>\n",
       "      <th>98</th>\n",
       "      <td>1502103</td>\n",
       "      <td>Cametá</td>\n",
       "      <td>1505205</td>\n",
       "      <td>Oeiras do Pará</td>\n",
       "      <td>36.00</td>\n",
       "    </tr>\n",
       "    <tr>\n",
       "      <th>99</th>\n",
       "      <td>1501303</td>\n",
       "      <td>Barcarena</td>\n",
       "      <td>1600808</td>\n",
       "      <td>Vitória do Jari</td>\n",
       "      <td>3.00</td>\n",
       "    </tr>\n",
       "  </tbody>\n",
       "</table>\n",
       "<p>100 rows × 5 columns</p>\n",
       "</div>"
      ]
     },
     "execution_count": 4,
     "metadata": {},
     "output_type": "execute_result"
    }
   ],
   "execution_count": 4
  },
  {
   "metadata": {
    "ExecuteTime": {
     "end_time": "2025-04-14T22:00:36.196697Z",
     "start_time": "2025-04-14T22:00:31.042911Z"
    }
   },
   "cell_type": "code",
   "source": [
    "import pandas as pd\n",
    "\n",
    "df = pd.read_excel(\"data/Road_and_waterway_connections_database_2016.xlsx\")\n",
    "flows = df[\"VAR05\"]\n",
    "print(flows.describe())\n"
   ],
   "id": "5b68bad548aae786",
   "outputs": [
    {
     "name": "stdout",
     "output_type": "stream",
     "text": [
      "count    65638.000000\n",
      "mean         0.157580\n",
      "std          4.600863\n",
      "min          0.000000\n",
      "25%          0.000000\n",
      "50%          0.000000\n",
      "75%          0.000000\n",
      "max        539.000000\n",
      "Name: VAR05, dtype: float64\n"
     ]
    }
   ],
   "execution_count": 6
  },
  {
   "metadata": {
    "ExecuteTime": {
     "end_time": "2025-04-14T22:02:12.557826Z",
     "start_time": "2025-04-14T22:02:12.552799Z"
    }
   },
   "cell_type": "code",
   "source": [
    "import pandas as pd\n",
    "\n",
    "# Rename for easier handling (optional)\n",
    "df = df.rename(columns={\n",
    "    'CODMUNDV_A': 'source',\n",
    "    'NOMEMUN_A': 'source_name',\n",
    "    'CODMUNDV_B': 'target',\n",
    "    'NOMEMUN_B': 'target_name',\n",
    "    'VAR05': 'weekly_flow'\n",
    "})\n",
    "\n",
    "# Filter out zero flows\n",
    "df = df[df['weekly_flow'] > 0]\n",
    "\n",
    "# Get the row with the maximum weekly_flow\n",
    "max_row = df.loc[df['weekly_flow'].idxmax()]\n",
    "\n",
    "# Display it\n",
    "print(\"\\nCity Pair with Maximum Flow:\")\n",
    "print(f\"From: {max_row['source_name']} ({max_row['source']})\")\n",
    "print(f\"To  : {max_row['target_name']} ({max_row['target']})\")\n",
    "print(f\"Weekly Flow: {max_row['weekly_flow']}\")\n"
   ],
   "id": "c33062f77ed9766f",
   "outputs": [
    {
     "name": "stdout",
     "output_type": "stream",
     "text": [
      "\n",
      "City Pair with Maximum Flow:\n",
      "From: Salvador (2927408)\n",
      "To  : Vera Cruz (2933208)\n",
      "Weekly Flow: 539.0\n"
     ]
    }
   ],
   "execution_count": 9
  },
  {
   "metadata": {},
   "cell_type": "code",
   "outputs": [],
   "execution_count": null,
   "source": "",
   "id": "da7fbde1cbe75a3e"
  }
 ],
 "metadata": {
  "kernelspec": {
   "display_name": "Python 3",
   "language": "python",
   "name": "python3"
  },
  "language_info": {
   "codemirror_mode": {
    "name": "ipython",
    "version": 2
   },
   "file_extension": ".py",
   "mimetype": "text/x-python",
   "name": "python",
   "nbconvert_exporter": "python",
   "pygments_lexer": "ipython2",
   "version": "2.7.6"
  }
 },
 "nbformat": 4,
 "nbformat_minor": 5
}
