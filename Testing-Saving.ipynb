{
 "cells": [
  {
   "metadata": {
    "ExecuteTime": {
     "end_time": "2025-04-05T02:44:37.756837Z",
     "start_time": "2025-04-05T02:44:36.942334Z"
    }
   },
   "cell_type": "code",
   "source": [
    "import torch\n",
    "\n",
    "if torch.backends.mps.is_available():\n",
    "    device = torch.device(\"cpu\")\n",
    "    print('Using cpu')\n",
    "elif torch.cuda.is_available():\n",
    "    device = torch.device(\"cuda\")\n",
    "else:\n",
    "    device = torch.device(\"cpu\")"
   ],
   "id": "ed48a47e23d2dc5f",
   "outputs": [
    {
     "name": "stdout",
     "output_type": "stream",
     "text": [
      "Using cpu\n"
     ]
    }
   ],
   "execution_count": 1
  },
  {
   "metadata": {
    "ExecuteTime": {
     "end_time": "2025-04-05T02:45:28.965864Z",
     "start_time": "2025-04-05T02:45:28.953030Z"
    }
   },
   "cell_type": "code",
   "source": [
    "import importlib\n",
    "import codes.models.custom_gcrn\n",
    "import torch.nn as nn\n",
    "import torch.optim as optim\n",
    "\n",
    "importlib.reload(codes.models.custom_gcrn_transformer)\n",
    "\n",
    "from codes.models.custom_gcrn_transformer import GCRNWithTransformer\n",
    "\n",
    "model = GCRNWithTransformer(in_channels=1, hidden_channels=64, out_channels=1).to(device)\n",
    "model.load_state_dict(torch.load(\"models/GCRN-Transformer.pth\"))\n",
    "model.eval()  # Optional but good practice for inference"
   ],
   "id": "a529474642e3034c",
   "outputs": [
    {
     "data": {
      "text/plain": [
       "GCRNWithTransformer(\n",
       "  (transformer_input_proj): Linear(in_features=1, out_features=64, bias=True)\n",
       "  (transformer_encoder): TransformerEncoder(\n",
       "    (layers): ModuleList(\n",
       "      (0): TransformerEncoderLayer(\n",
       "        (self_attn): MultiheadAttention(\n",
       "          (out_proj): NonDynamicallyQuantizableLinear(in_features=64, out_features=64, bias=True)\n",
       "        )\n",
       "        (linear1): Linear(in_features=64, out_features=128, bias=True)\n",
       "        (dropout): Dropout(p=0.1, inplace=False)\n",
       "        (linear2): Linear(in_features=128, out_features=64, bias=True)\n",
       "        (norm1): LayerNorm((64,), eps=1e-05, elementwise_affine=True)\n",
       "        (norm2): LayerNorm((64,), eps=1e-05, elementwise_affine=True)\n",
       "        (dropout1): Dropout(p=0.1, inplace=False)\n",
       "        (dropout2): Dropout(p=0.1, inplace=False)\n",
       "      )\n",
       "    )\n",
       "  )\n",
       "  (proj_back): Linear(in_features=64, out_features=1, bias=True)\n",
       "  (gconv_gru): GConvGRUCell(\n",
       "    (conv_z): GCNConv(65, 64)\n",
       "    (conv_r): GCNConv(65, 64)\n",
       "    (conv_h): GCNConv(65, 64)\n",
       "  )\n",
       "  (relu): ReLU()\n",
       "  (linear): Linear(in_features=64, out_features=1, bias=True)\n",
       ")"
      ]
     },
     "execution_count": 5,
     "metadata": {},
     "output_type": "execute_result"
    }
   ],
   "execution_count": 5
  },
  {
   "metadata": {
    "ExecuteTime": {
     "end_time": "2025-04-05T02:45:34.283049Z",
     "start_time": "2025-04-05T02:45:34.281503Z"
    }
   },
   "cell_type": "code",
   "source": [
    "# Loss function\n",
    "criterion = nn.MSELoss()"
   ],
   "id": "75e10e97dd386fd",
   "outputs": [],
   "execution_count": 6
  },
  {
   "metadata": {
    "ExecuteTime": {
     "end_time": "2025-04-05T02:45:51.203174Z",
     "start_time": "2025-04-05T02:45:51.181980Z"
    }
   },
   "cell_type": "code",
   "source": "",
   "id": "2c0a25d62fdb398f",
   "outputs": [
    {
     "ename": "NameError",
     "evalue": "name 'CovidGraphDataset' is not defined",
     "output_type": "error",
     "traceback": [
      "\u001B[0;31m---------------------------------------------------------------------------\u001B[0m",
      "\u001B[0;31mNameError\u001B[0m                                 Traceback (most recent call last)",
      "Cell \u001B[0;32mIn[7], line 3\u001B[0m\n\u001B[1;32m      1\u001B[0m \u001B[38;5;28;01mfrom\u001B[39;00m \u001B[38;5;21;01mtqdm\u001B[39;00m \u001B[38;5;28;01mimport\u001B[39;00m tqdm\n\u001B[0;32m----> 3\u001B[0m test_dataset \u001B[38;5;241m=\u001B[39m CovidGraphDataset(X_test_slide, Y_test_slide)\n\u001B[1;32m      4\u001B[0m test_loader \u001B[38;5;241m=\u001B[39m DataLoader(test_dataset, batch_size\u001B[38;5;241m=\u001B[39mbatch_size)\n\u001B[1;32m      6\u001B[0m model\u001B[38;5;241m.\u001B[39meval()\n",
      "\u001B[0;31mNameError\u001B[0m: name 'CovidGraphDataset' is not defined"
     ]
    }
   ],
   "execution_count": 7
  }
 ],
 "metadata": {
  "kernelspec": {
   "display_name": "Python 3",
   "language": "python",
   "name": "python3"
  },
  "language_info": {
   "codemirror_mode": {
    "name": "ipython",
    "version": 2
   },
   "file_extension": ".py",
   "mimetype": "text/x-python",
   "name": "python",
   "nbconvert_exporter": "python",
   "pygments_lexer": "ipython2",
   "version": "2.7.6"
  }
 },
 "nbformat": 4,
 "nbformat_minor": 5
}
